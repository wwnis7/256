{
 "cells": [
  {
   "cell_type": "markdown",
   "metadata": {},
   "source": [
    "# EX 1 saying hello"
   ]
  },
  {
   "cell_type": "code",
   "execution_count": null,
   "metadata": {},
   "outputs": [],
   "source": [
    "name = str(input(\"what is your name? \"))\n",
    "print(\"Hello, %s , nice to meet you!\"% name)"
   ]
  },
  {
   "cell_type": "markdown",
   "metadata": {},
   "source": [
    "# EX2 counting the number of characters"
   ]
  },
  {
   "cell_type": "code",
   "execution_count": 32,
   "metadata": {},
   "outputs": [
    {
     "name": "stdout",
     "output_type": "stream",
     "text": [
      "what is your name? JEE\n",
      "JEE has 3 characters\n"
     ]
    }
   ],
   "source": [
    "name = str(input(\"what is your name? \"))\n",
    "name_len= len(name)\n",
    "print(f\"{name} has {name_len} characters\") #%로는 어떻게 하는지,,"
   ]
  },
  {
   "cell_type": "code",
   "execution_count": 58,
   "metadata": {},
   "outputs": [
    {
     "name": "stdout",
     "output_type": "stream",
     "text": [
      "what is your name? jee\n",
      " jee has 3 characters\n"
     ]
    }
   ],
   "source": [
    "name = str(input(\"what is your name? \"))\n",
    "name_len= len(name)\n",
    "print(\" %s has %d characters\" %(name,name_len)) "
   ]
  },
  {
   "cell_type": "markdown",
   "metadata": {},
   "source": [
    "# Ex3 priniting quotes"
   ]
  },
  {
   "cell_type": "markdown",
   "metadata": {},
   "source": [
    "# EX4 mad lib"
   ]
  },
  {
   "cell_type": "code",
   "execution_count": 34,
   "metadata": {},
   "outputs": [
    {
     "name": "stdout",
     "output_type": "stream",
     "text": [
      "Enter a noun:a\n",
      "Enter a verb:b\n",
      "Enter a adjective:cdd\n",
      "Enter a adverb:errr\n",
      "Do you b your cdd a errr?\n"
     ]
    }
   ],
   "source": [
    "noun=str(input(\"Enter a noun:\"))\n",
    "verb=str(input(\"Enter a verb:\"))\n",
    "adjective=str(input(\"Enter a adjective:\"))\n",
    "adverb=str(input(\"Enter a adverb:\"))\n",
    "print(f\"Do you {verb} your {adjective} {noun} {adverb}?\" )"
   ]
  },
  {
   "cell_type": "markdown",
   "metadata": {},
   "source": [
    "# EX5 simple math"
   ]
  },
  {
   "cell_type": "code",
   "execution_count": 36,
   "metadata": {},
   "outputs": [
    {
     "name": "stdout",
     "output_type": "stream",
     "text": [
      "what is the first number?10\n",
      "what is the second number?5\n",
      "10 + 5 =15 \n",
      "10 - 5 =5 \n",
      "10 * 5 =50 \n",
      "10 / 5 =2 \n"
     ]
    }
   ],
   "source": [
    "first=int(input(\"what is the first number? \"))\n",
    "second=int(input(\"what is the second number? \"))\n",
    "print(\"%d + %d = %d \"%(first, second, first+second))\n",
    "print(\"%d - %d = %d \"%(first, second, first-second))\n",
    "print(\"%d * %d = %d \"%(first, second, first*second))\n",
    "print(\"%d / %d = %d \"%(first, second, first/second))"
   ]
  },
  {
   "cell_type": "markdown",
   "metadata": {},
   "source": [
    "# EX6 retirement calculator"
   ]
  },
  {
   "cell_type": "markdown",
   "metadata": {},
   "source": [
    "# EX7 area of a rectangular room"
   ]
  },
  {
   "cell_type": "code",
   "execution_count": 7,
   "metadata": {},
   "outputs": [
    {
     "name": "stdout",
     "output_type": "stream",
     "text": [
      "What is the length of the room in feet?15\n",
      "What is the width of the room in feet?20\n",
      "You entered dimensions of 15 feet by 20 feet.\n",
      "300 square feet\n",
      "27.871 square meters\n"
     ]
    }
   ],
   "source": [
    "length=int(input(\"What is the length of the room in feet?\"))\n",
    "width=int(input(\"What is the width of the room in feet?\")) \n",
    "print(\"You entered dimensions of %d feet by %d feet.\" %(length,width))\n",
    "#f=length*width\n",
    "print(\"%d square feet\" %f) \n",
    "square_meter=f*0.09290304\n",
    "\n",
    "print(\"%0.3f square meters\" %square_meter)\n"
   ]
  },
  {
   "cell_type": "markdown",
   "metadata": {},
   "source": [
    "# EX8 pizza party"
   ]
  },
  {
   "cell_type": "code",
   "execution_count": 14,
   "metadata": {},
   "outputs": [
    {
     "name": "stdout",
     "output_type": "stream",
     "text": [
      "How many peole? 9\n",
      "How many pizzas do you have? 2\n",
      "9 people with 2 pizzas\n",
      "Each person get 1 pieces of pizza.\n",
      "There are 7 leftover pieces.\n"
     ]
    }
   ],
   "source": [
    "people_number = int(input(\"How many peole? \"))\n",
    "pizza_number = int(input(\"How many pizzas do you have? \"))\n",
    "pizza_pieces = pizza_number*8\n",
    "\n",
    "print(\"%d people with %d pizzas\" %(people_number,pizza_number))\n",
    "print(\"Each person get %d pieces of pizza.\" %(pizza_pieces/people_number))\n",
    "print(\"There are %d leftover pieces.\" %(pizza_pieces%people_number))\n"
   ]
  },
  {
   "cell_type": "markdown",
   "metadata": {},
   "source": [
    "# EX9 Paint Calculator"
   ]
  },
  {
   "cell_type": "markdown",
   "metadata": {},
   "source": [
    "# EX10 Self-Checkout"
   ]
  },
  {
   "cell_type": "code",
   "execution_count": null,
   "metadata": {},
   "outputs": [],
   "source": [
    "###price_1=int(input(Enter the price of item 1:)) #25\n",
    "#quantity_1=int(input(Enter the quantity of item 1:)) #2\n",
    "\n",
    "#price_2=int(input(Enter the price of item 2:)) #10\n",
    "#quantity_2=int(input(Enter the quantity of item 2:)) #1\n",
    "\n",
    "#price_3=int(input(Enter the price of item 3:)) #4\n",
    "#quantity_3=int(input(Enter the quantity of item 3:)) #1\n",
    "\n",
    "##Subtotal: "
   ]
  },
  {
   "cell_type": "code",
   "execution_count": null,
   "metadata": {},
   "outputs": [],
   "source": [
    " i=0\n",
    "while i<3:\n",
    "    i=i+1\n",
    "    int(input(\"Enter the price of item %d:\" %i))\n",
    "    int(input(\"Enter the quantity of item %d:\" %i))\n",
    "    sum=a*b\n",
    "    |\n",
    "    print(\"subtotal: $%0.2f\" %sum)\n",
    "    \n",
    "    #if i==3:\n",
    "       # print(\"subtotal: $%0.2f\" %c )\n",
    "        #print(\"tax: $%0.2f\" )\n",
    "      #  print(\"subtotal: $%0.2f\" )\n",
    "        \n",
    "    \n",
    "    "
   ]
  },
  {
   "cell_type": "code",
   "execution_count": null,
   "metadata": {},
   "outputs": [],
   "source": []
  },
  {
   "cell_type": "code",
   "execution_count": null,
   "metadata": {},
   "outputs": [],
   "source": []
  }
 ],
 "metadata": {
  "kernelspec": {
   "display_name": "Python 3",
   "language": "python",
   "name": "python3"
  },
  "language_info": {
   "codemirror_mode": {
    "name": "ipython",
    "version": 3
   },
   "file_extension": ".py",
   "mimetype": "text/x-python",
   "name": "python",
   "nbconvert_exporter": "python",
   "pygments_lexer": "ipython3",
   "version": "3.6.7"
  }
 },
 "nbformat": 4,
 "nbformat_minor": 2
}
