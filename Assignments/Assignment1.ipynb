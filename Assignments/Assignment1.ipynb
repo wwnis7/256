{
  "nbformat": 4,
  "nbformat_minor": 0,
  "metadata": {
    "colab": {
      "name": "Assignment1.ipynb",
      "provenance": [],
      "collapsed_sections": [],
      "authorship_tag": "ABX9TyMWcBBjJ19rIzR227bGUu1z",
      "include_colab_link": true
    },
    "kernelspec": {
      "name": "python3",
      "display_name": "Python 3"
    },
    "language_info": {
      "name": "python"
    }
  },
  "cells": [
    {
      "cell_type": "markdown",
      "metadata": {
        "id": "view-in-github",
        "colab_type": "text"
      },
      "source": [
        "<a href=\"https://colab.research.google.com/github/wwnis7/256/blob/master/Assignments/Assignment1.ipynb\" target=\"_parent\"><img src=\"https://colab.research.google.com/assets/colab-badge.svg\" alt=\"Open In Colab\"/></a>"
      ]
    },
    {
      "cell_type": "code",
      "metadata": {
        "colab": {
          "base_uri": "https://localhost:8080/"
        },
        "id": "gzYxMK7P6A7l",
        "outputId": "e68e731f-302a-4a23-d413-533a285cf428"
      },
      "source": [
        "!pip install riotwatcher"
      ],
      "execution_count": 1,
      "outputs": [
        {
          "output_type": "stream",
          "text": [
            "Requirement already satisfied: riotwatcher in /usr/local/lib/python3.7/dist-packages (3.1.1)\n",
            "Requirement already satisfied: requests in /usr/local/lib/python3.7/dist-packages (from riotwatcher) (2.23.0)\n",
            "Requirement already satisfied: urllib3!=1.25.0,!=1.25.1,<1.26,>=1.21.1 in /usr/local/lib/python3.7/dist-packages (from requests->riotwatcher) (1.24.3)\n",
            "Requirement already satisfied: idna<3,>=2.5 in /usr/local/lib/python3.7/dist-packages (from requests->riotwatcher) (2.10)\n",
            "Requirement already satisfied: chardet<4,>=3.0.2 in /usr/local/lib/python3.7/dist-packages (from requests->riotwatcher) (3.0.4)\n",
            "Requirement already satisfied: certifi>=2017.4.17 in /usr/local/lib/python3.7/dist-packages (from requests->riotwatcher) (2020.12.5)\n"
          ],
          "name": "stdout"
        }
      ]
    },
    {
      "cell_type": "code",
      "metadata": {
        "colab": {
          "base_uri": "https://localhost:8080/"
        },
        "id": "ndYurIEqij1W",
        "outputId": "08fba861-55c9-4925-e1ba-9840f423e5ca"
      },
      "source": [
        "from riotwatcher import LolWatcher, ApiError\n",
        "\n",
        "# https://developer.riotgames.com/\n",
        "API = 'RGAPI-43c30e05-a73a-4630-93ab-92989e0e998e'    # Riot 계정의 DEVELOPMENT API KEY 입력\n",
        "\n",
        "lol_watcher = LolWatcher(api_key=API)\n",
        "\n",
        "region = 'KR'\n",
        "\n",
        "summoner_name = 'Hide on bush' # 페이커 선수 소환사 네임\n",
        "\n",
        "summoner = lol_watcher.summoner.by_name(region=region, summoner_name=summoner_name)\n",
        "\n",
        "accountId = summoner['accountId']\n",
        "\n",
        "# 향후 match version 업데이트(v4->v5) 반영 예정. 이에 따른 코드 업데이트 필요.\n",
        "# https://developer.riotgames.com/apis#match-v5\n",
        "\n",
        "# matchlist_by_account 함수는 timestamp의 내림차순으로 match 정보를 가저온다고 가정\n",
        "n_matches = 20\n",
        "matches_info = lol_watcher.match.matchlist_by_account(region='kr', encrypted_account_id=accountId, end_index=n_matches)\n",
        "\n",
        "matches = matches_info['matches']\n",
        "\n",
        "# timestamp 순서가 시간 순서와 일치하다고 가정\n",
        "now = matches[0]['timestamp']\n",
        "for i in range(1, len(matches)):\n",
        "  before = matches[i]['timestamp']\n",
        "  if before>now:\n",
        "    print('Sorting Error......')\n",
        "    print('i:', i)\n",
        "    break\n",
        "  now = before\n",
        "else:\n",
        "  print('Complete sorting check!')\n",
        "\n",
        "GameId = [match['gameId'] for match in matches]\n",
        "print('gameId:', GameId)"
      ],
      "execution_count": 2,
      "outputs": [
        {
          "output_type": "stream",
          "text": [
            "Complete sorting check!\n",
            "gameId: [5237914713, 5237828577, 5237793983, 5237579007, 5237564561, 5237305813, 5237238059, 5237214080, 5237177241, 5237085281, 5235694713, 5232070182, 5230008278, 5229906238, 5229920800, 5227065943, 5226978009, 5226808929, 5225069378, 5225057003]\n"
          ],
          "name": "stdout"
        }
      ]
    }
  ]
}