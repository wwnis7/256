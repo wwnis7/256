{
 "cells": [
  {
   "cell_type": "markdown",
   "metadata": {},
   "source": [
    "# Exercise 4. Mad Libs"
   ]
  },
  {
   "cell_type": "markdown",
   "metadata": {},
   "source": [
    "####  목표 : 명사, 동사, 형용사, 부사에 해당되는 단어를 입력 받은 후,   여러분이 만든 이야기에 넣어 완성된 이야기를 출력해보자."
   ]
  },
  {
   "cell_type": "markdown",
   "metadata": {},
   "source": [
    "#### 조건  \n",
    "1. 이 프로그램에서는 한 개의 출력문만을 사용할 것  \n",
    "2. 만일 사용하는 프로그래밍 언어가 문자열 보간이나 문자열 대체를 징원하는 경우, 출력문을 만드는 데 활용할 것"
   ]
  },
  {
   "cell_type": "code",
   "execution_count": 3,
   "metadata": {},
   "outputs": [
    {
     "name": "stdout",
     "output_type": "stream",
     "text": [
      "Do you dog your walk blue quickly? That's hilarious!\n"
     ]
    }
   ],
   "source": [
    "# Using Format\n",
    "noun = 'dog'\n",
    "verb = 'walk'\n",
    "adjective = 'blue'\n",
    "adverb = 'quickly'\n",
    "\n",
    "statement = \"Do you {} your {} {} {}? That's hilarious!\".format(noun, verb, adjective\n",
    "                                                               ,adverb)\n",
    "print(statement)"
   ]
  },
  {
   "cell_type": "code",
   "execution_count": 4,
   "metadata": {},
   "outputs": [
    {
     "name": "stdout",
     "output_type": "stream",
     "text": [
      "Do you dog your walk blue quickly? That's hilarious!\n"
     ]
    }
   ],
   "source": [
    "# Using Placeholder\n",
    "noun = 'dog'\n",
    "verb = 'walk'\n",
    "adjective = 'blue'\n",
    "adverb = 'quickly'\n",
    "\n",
    "statement = \"Do you {0} your {1} {2} {3}? That's hilarious!\".format(noun, verb, adjective\n",
    "                                                               ,adverb)\n",
    "print(statement)"
   ]
  },
  {
   "cell_type": "code",
   "execution_count": 5,
   "metadata": {},
   "outputs": [
    {
     "name": "stdout",
     "output_type": "stream",
     "text": [
      "Do you dog your walk blue quickly? That's hilarious!\n"
     ]
    }
   ],
   "source": [
    "# String Formatting with List\n",
    "word_list = ['dog', 'walk', 'blue', 'quickly'] \n",
    "\n",
    "statement = \"Do you {0[0]} your {0[1]} {0[2]} {0[3]}? That's hilarious!\".format(word_list)\n",
    "print(statement)"
   ]
  },
  {
   "cell_type": "code",
   "execution_count": 8,
   "metadata": {},
   "outputs": [
    {
     "name": "stdout",
     "output_type": "stream",
     "text": [
      "Do you Bob your walk blue quickly? That's hilarious!\n",
      "Do you  your   ? That's hilarious!\n"
     ]
    }
   ],
   "source": [
    "# String Formatting with Dictionary\n",
    "sentence = \"Do you {noun} your {verb} {adjective} {adverb}? That's hilarious!\".format(\n",
    "    noun='Bob', verb='walk', adjective='blue', adverb='quickly')\n",
    "print(sentence)\n",
    "\n",
    "# Fill your word in ''\n",
    "sentence_1 = \"Do you {noun} your {verb} {adjective} {adverb}? That's hilarious!\".format(\n",
    "    noun='', verb='', adjective='', adverb='')\n",
    "print(sentence_1)"
   ]
  },
  {
   "cell_type": "code",
   "execution_count": 16,
   "metadata": {},
   "outputs": [
    {
     "name": "stdout",
     "output_type": "stream",
     "text": [
      "Do you dog your walk blue quickly? That's hilarious!\n"
     ]
    }
   ],
   "source": [
    "# String Formatting with Class\n",
    "class Word():\n",
    "    def __init__(self, noun, verb, adjevtive, adverb):\n",
    "        self.noun = noun\n",
    "        self.verb = verb\n",
    "        self.adjective = adjective\n",
    "        self.adverb = adverb\n",
    "        \n",
    "Word_package = Word('dog', 'walk', 'blue', 'quickly')\n",
    "sentence = \"Do you {0.noun} your {0.verb} {0.adjective} {0.adverb}? That's hilarious!\".format(Word_package)\n",
    "print(sentence)"
   ]
  },
  {
   "cell_type": "code",
   "execution_count": null,
   "metadata": {},
   "outputs": [],
   "source": []
  }
 ],
 "metadata": {
  "kernelspec": {
   "display_name": "Python 3",
   "language": "python",
   "name": "python3"
  },
  "language_info": {
   "codemirror_mode": {
    "name": "ipython",
    "version": 3
   },
   "file_extension": ".py",
   "mimetype": "text/x-python",
   "name": "python",
   "nbconvert_exporter": "python",
   "pygments_lexer": "ipython3",
   "version": "3.6.5"
  }
 },
 "nbformat": 4,
 "nbformat_minor": 2
}
