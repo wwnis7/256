{
 "cells": [
  {
   "cell_type": "markdown",
   "metadata": {},
   "source": [
    "# Exercise 8. 피자 파티"
   ]
  },
  {
   "cell_type": "markdown",
   "metadata": {},
   "source": [
    "#### 목표 : 피자를 정확하게 나누는 프로그램을 작성하라."
   ]
  },
  {
   "cell_type": "markdown",
   "metadata": {},
   "source": [
    "#### 조건\n",
    "1. 사람 수, 피자 개수, 조각 개수를 입력 받는데, 이때 조각 개수는 짝수여야 한다.  \n",
    "2. 일단 한 사람이 받게 되는 피자 조각 재수를 출력해보자.  \n",
    "3. 만일 남는 조각이 있다면 그 개수도 나타내보자. "
   ]
  },
  {
   "cell_type": "code",
   "execution_count": 6,
   "metadata": {},
   "outputs": [
    {
     "name": "stdout",
     "output_type": "stream",
     "text": [
      "How many people? 8\n",
      "How many pizzas do you have? 2\n",
      "How many pieces are in a pizza? 8\n",
      "16\n",
      "0\n",
      "\n",
      "There are 0 leftover pieces.\n"
     ]
    }
   ],
   "source": [
    "people = input('How many people? ')\n",
    "pizza = input('How many pizzas do you have? ')\n",
    "\n",
    "pieces = input('How many pieces are in a pizza? ')\n",
    "\n",
    "total_piece = int(pizza) * int(pieces)\n",
    "print(total_piece)\n",
    "\n",
    "each_person_piece = 2\n",
    "sentence = 'Each person gets {} pieces of pizza.'.format(each_person_piece)\n",
    "\n",
    "remain_piece = total_piece - (each_person_piece * int(people))\n",
    "print(remain_piece)\n",
    "print()\n",
    "\n",
    "Final = 'There are {} leftover pieces.'.format(remain_piece)\n",
    "print(Final)"
   ]
  },
  {
   "cell_type": "code",
   "execution_count": null,
   "metadata": {},
   "outputs": [],
   "source": []
  }
 ],
 "metadata": {
  "kernelspec": {
   "display_name": "Python 3",
   "language": "python",
   "name": "python3"
  },
  "language_info": {
   "codemirror_mode": {
    "name": "ipython",
    "version": 3
   },
   "file_extension": ".py",
   "mimetype": "text/x-python",
   "name": "python",
   "nbconvert_exporter": "python",
   "pygments_lexer": "ipython3",
   "version": "3.6.5"
  }
 },
 "nbformat": 4,
 "nbformat_minor": 2
}
