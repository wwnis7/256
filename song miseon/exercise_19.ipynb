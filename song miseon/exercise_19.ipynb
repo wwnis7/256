{
 "cells": [
  {
   "cell_type": "markdown",
   "metadata": {},
   "source": [
    "# Exercise 19. BMI 계산기"
   ]
  },
  {
   "cell_type": "markdown",
   "metadata": {},
   "source": [
    "#### 목표\n",
    "사용자로부터 사람의 키(인치 단위), 몸무게(파운드 단위)를 입력 받아 체질량지수(BMI, Body Mass Index)를 계산하는 프로그램을 작성하라."
   ]
  },
  {
   "cell_type": "markdown",
   "metadata": {},
   "source": [
    "#### 공식\n",
    "BMI = (weight / (height * height)) * 703  \n",
    "* BMI 값이 18.5에서 25 사이로 나타나면 이 사람은 정상적인 몸무게라고 출력하고, 그렇지 않은 경우에는 과체중이나 저체중으로 나타낸 다음 의사와 상의하라는 문구로 출력해보자."
   ]
  },
  {
   "cell_type": "markdown",
   "metadata": {},
   "source": [
    "#### 조건\n",
    "1. 입력 값으로 숫자만 받을 수 있도록 하여 숫자가 입력될 때까지 진행되지 않도록 할 것 "
   ]
  },
  {
   "cell_type": "code",
   "execution_count": 12,
   "metadata": {},
   "outputs": [
    {
     "name": "stdout",
     "output_type": "stream",
     "text": [
      "What is your weight? 52\n",
      "What is your height 165\n",
      "Your BMI is 19.1\n",
      "\n",
      "Your weight is normal weight.\n"
     ]
    }
   ],
   "source": [
    "weight = input('What is your weight? ')\n",
    "weight = int(weight)\n",
    "weight = weight * 2.204623 # 1kg = 2.204623lb\n",
    "\n",
    "height = input('What is your height ')\n",
    "height = int(height)\n",
    "height = height * 0.393701 # 1cm = 0.393701in\n",
    "\n",
    "BMI = (weight / (height * height)) * 703 \n",
    "BMI = round(BMI, 2)\n",
    "sentence = 'Your BMI is {}'.format(BMI)\n",
    "print(sentence)\n",
    "print()\n",
    "\n",
    "if (18.5 < BMI < 25):\n",
    "    print('Your weight is normal weight.')\n",
    "elif (BMI <= 18.5):\n",
    "    print('Your weight is low-weight.')\n",
    "else:\n",
    "    print('Your weight is overweight.')\n"
   ]
  },
  {
   "cell_type": "code",
   "execution_count": null,
   "metadata": {},
   "outputs": [],
   "source": []
  }
 ],
 "metadata": {
  "kernelspec": {
   "display_name": "Python 3",
   "language": "python",
   "name": "python3"
  },
  "language_info": {
   "codemirror_mode": {
    "name": "ipython",
    "version": 3
   },
   "file_extension": ".py",
   "mimetype": "text/x-python",
   "name": "python",
   "nbconvert_exporter": "python",
   "pygments_lexer": "ipython3",
   "version": "3.6.5"
  }
 },
 "nbformat": 4,
 "nbformat_minor": 2
}
