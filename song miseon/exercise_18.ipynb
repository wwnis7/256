{
 "cells": [
  {
   "cell_type": "markdown",
   "metadata": {},
   "source": [
    "# Exercise 18. 온도 변환"
   ]
  },
  {
   "cell_type": "markdown",
   "metadata": {},
   "source": [
    "#### 목표\n",
    "화씨온도와 섭씨온도를 서로 변환시키는 프로그램을 작성하라.  \n",
    "먼저 변환할 타입을 입력 받은 다음 온도를 입력 받아 해당 타입으로 변환시키자. "
   ]
  },
  {
   "cell_type": "markdown",
   "metadata": {},
   "source": [
    "#### 공식\n",
    "* C = (F - 32) x 5 / 9\n",
    "* F = (C x 9/5) + 32"
   ]
  },
  {
   "cell_type": "markdown",
   "metadata": {},
   "source": [
    "#### 조건\n",
    "1. C와 F는 대소문자에 관계없이 입력 받을 수 있도록 할 것  \n",
    "2. 출력문의 개수를 최소화하면서도 출력 문자열을 반복해서 사용하지 않도록 할 것  "
   ]
  },
  {
   "cell_type": "code",
   "execution_count": 4,
   "metadata": {},
   "outputs": [
    {
     "name": "stdout",
     "output_type": "stream",
     "text": [
      "Press C to convert form Fahrenheit to Celsius.\n",
      "Press F to convert from Celsius to Fahrenheit.\n",
      "What is your choice? C\n",
      "\n",
      "What is the Fahrenheit temperature? 45\n",
      "7.222222222222222\n"
     ]
    }
   ],
   "source": [
    "sentence_1 = 'Press C to convert form Fahrenheit to Celsius.'\n",
    "sentence_2 = 'Press F to convert from Celsius to Fahrenheit.'\n",
    "print(sentence_1)\n",
    "print(sentence_2)\n",
    "\n",
    "choice = input('What is your choice? ')\n",
    "print()\n",
    "\n",
    "temperature = str(choice)\n",
    "if (temperature == 'C'):\n",
    "    Fahrenheit = input('What is the Fahrenheit temperature? ')\n",
    "    Fahrenheit = int(Fahrenheit)\n",
    "    Celsius = (Fahrenheit - 32) * 5 / 9\n",
    "    print(Celsius)\n",
    "else:\n",
    "    Celsius = input('What is the Celsius temperature? ')\n",
    "    Celsius = int(Celsius)\n",
    "    Fahrenheit = (Celsius * 9 / 5) + 32\n",
    "    print(Fahrenheit)"
   ]
  },
  {
   "cell_type": "code",
   "execution_count": null,
   "metadata": {},
   "outputs": [],
   "source": []
  }
 ],
 "metadata": {
  "kernelspec": {
   "display_name": "Python 3",
   "language": "python",
   "name": "python3"
  },
  "language_info": {
   "codemirror_mode": {
    "name": "ipython",
    "version": 3
   },
   "file_extension": ".py",
   "mimetype": "text/x-python",
   "name": "python",
   "nbconvert_exporter": "python",
   "pygments_lexer": "ipython3",
   "version": "3.6.5"
  }
 },
 "nbformat": 4,
 "nbformat_minor": 2
}
