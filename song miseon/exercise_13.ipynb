{
 "cells": [
  {
   "cell_type": "markdown",
   "metadata": {},
   "source": [
    "# Exercise 13. 복리 계산"
   ]
  },
  {
   "cell_type": "markdown",
   "metadata": {},
   "source": [
    "#### 목표 : 복리를 통해 투자 수익을 계산하는 프로그램을 작성하라."
   ]
  },
  {
   "cell_type": "markdown",
   "metadata": {},
   "source": [
    "#### 과정\n",
    "프로그램은 원금, 투자 기간, 연이율, 연간 수익이 지금되는 횟수를 입력 받는다.  \n",
    "\n",
    "공식 \n",
    "원리금 = 원금 x (1 + 연이율 / 연간 이자 지급 횟수) ^ (연간 이자 지급 횟수 x 투자 기간(연단위))"
   ]
  },
  {
   "cell_type": "markdown",
   "metadata": {},
   "source": [
    "#### 조건\n",
    "1. 연이율은 반드시 퍼센트 단위로 입력 받은 후 프로그램에서 입력 값을 100으로 나누어 계산할 것  \n",
    "2. 센트를 기준으로 하는 소숫점 다음에 숫자가 있을 때는 센트를 기준으로 올림 처리할 것  \n",
    "3. 출력되는 원리금은 화폐단위로 출력할 것 "
   ]
  },
  {
   "cell_type": "code",
   "execution_count": 5,
   "metadata": {},
   "outputs": [
    {
     "name": "stdout",
     "output_type": "stream",
     "text": [
      "What is the principal amount? 1500\n",
      "What is the rate? 4.3\n",
      "What is the number of years? 6\n",
      "What is the number of times the interest is compounded per year? 4\n",
      "\n",
      "$1500 invested at 4.3% for 6 years compounded 4 times per year is $1938.8368221341054\n"
     ]
    }
   ],
   "source": [
    "principal = input('What is the principal amount? ')\n",
    "rate = input('What is the rate? ')\n",
    "year = input('What is the number of years? ') # t value\n",
    "interest_payment = input('What is the number of times the interest is compounded per year? ')\n",
    "\n",
    "principal = int(principal)\n",
    "rate = float(rate)\n",
    "year = int(year)\n",
    "interest_payment = int(interest_payment)\n",
    "\n",
    "total = principal * ((1 + (rate /100) / interest_payment) ** (interest_payment * year))\n",
    "print()\n",
    "\n",
    "sentence = '${} invested at {}% for {} years compounded {} times per year is ${}'.format(principal,\n",
    "                                                                                       rate,\n",
    "                                                                                       year, \n",
    "                                                                                        interest_payment, total)\n",
    "print(sentence)"
   ]
  },
  {
   "cell_type": "code",
   "execution_count": null,
   "metadata": {},
   "outputs": [],
   "source": []
  }
 ],
 "metadata": {
  "kernelspec": {
   "display_name": "Python 3",
   "language": "python",
   "name": "python3"
  },
  "language_info": {
   "codemirror_mode": {
    "name": "ipython",
    "version": 3
   },
   "file_extension": ".py",
   "mimetype": "text/x-python",
   "name": "python",
   "nbconvert_exporter": "python",
   "pygments_lexer": "ipython3",
   "version": "3.6.5"
  }
 },
 "nbformat": 4,
 "nbformat_minor": 2
}
