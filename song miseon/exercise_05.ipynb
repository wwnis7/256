{
 "cells": [
  {
   "cell_type": "markdown",
   "metadata": {},
   "source": [
    "# Exercise 5 . 간단한 수학"
   ]
  },
  {
   "cell_type": "markdown",
   "metadata": {},
   "source": [
    "#### 목표 : 두 개의 숫자를 입력 받은 후, 두 숫자를 이용한 사칙연산 결과를 다음의 출력 예와 같이 나타내보자."
   ]
  },
  {
   "cell_type": "markdown",
   "metadata": {},
   "source": [
    "#### 조건  \n",
    "1. 문자열로 입력 받도록 할 것. 이렇게 받은 문자열 값을 사칙연산을 하기 전에 숫자 값으로 변환시켜야 한다.  \n",
    "2. 입력 값과 출력 값 모두 숫자 변환 및 기타 프로세스에 영향을 받지 않도록 할 것\n",
    "3. 한 개의 출력문만 사용하여 적당한 위치에 줄바꿈 글자를 넣을 것  "
   ]
  },
  {
   "cell_type": "code",
   "execution_count": 15,
   "metadata": {},
   "outputs": [
    {
     "name": "stdout",
     "output_type": "stream",
     "text": [
      "What is the first number? 10\n",
      "10\n",
      "What is the second number? 5\n",
      "5\n",
      "\n",
      "15\n",
      "5\n",
      "50\n",
      "2.0\n",
      "<class 'int'>\n"
     ]
    }
   ],
   "source": [
    "X = int(input('What is the first number? '))\n",
    "print(X)\n",
    "\n",
    "Y = int(input('What is the second number? '))\n",
    "print(Y)\n",
    "print()\n",
    "\n",
    "# Arithmetic\n",
    "Z_1 = X + Y\n",
    "Z_2 = X - Y\n",
    "Z_3 = X * Y\n",
    "Z_4 = X / Y \n",
    "print(Z_1)\n",
    "print(Z_2)\n",
    "print(Z_3)\n",
    "print(Z_4)\n",
    "\n",
    "# keypint : change first and second number to interger \n",
    "\n",
    "print(type(Z))"
   ]
  },
  {
   "cell_type": "code",
   "execution_count": null,
   "metadata": {},
   "outputs": [],
   "source": []
  }
 ],
 "metadata": {
  "kernelspec": {
   "display_name": "Python 3",
   "language": "python",
   "name": "python3"
  },
  "language_info": {
   "codemirror_mode": {
    "name": "ipython",
    "version": 3
   },
   "file_extension": ".py",
   "mimetype": "text/x-python",
   "name": "python",
   "nbconvert_exporter": "python",
   "pygments_lexer": "ipython3",
   "version": "3.6.5"
  }
 },
 "nbformat": 4,
 "nbformat_minor": 2
}
