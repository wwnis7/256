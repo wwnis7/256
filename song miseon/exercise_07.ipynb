{
 "cells": [
  {
   "cell_type": "markdown",
   "metadata": {},
   "source": [
    "# Chapter 3 . 연산"
   ]
  },
  {
   "cell_type": "markdown",
   "metadata": {},
   "source": [
    "###  연산자 우선순위\n",
    "Please Excuse My Dear Aunt Sally = PEMDAS  \n",
    "1. Parentheses : 괄호  \n",
    "2. Exponents : 제곱\n",
    "3. Multiplication : 곱셈\n",
    "4. Division : 나눗셈\n",
    "5. Addition :  덧셈\n",
    "6. Subtraction : 뺄셈  "
   ]
  },
  {
   "cell_type": "code",
   "execution_count": 4,
   "metadata": {},
   "outputs": [
    {
     "name": "stdout",
     "output_type": "stream",
     "text": [
      "125.0\n",
      "6.875\n",
      "0.07\n"
     ]
    }
   ],
   "source": [
    "# Example\n",
    "cents = 1.25 * 100.0\n",
    "print(cents)\n",
    "tax = cents * 0.055\n",
    "print(tax)\n",
    "tax = round(tax) / 100.0\n",
    "print(tax)"
   ]
  },
  {
   "cell_type": "markdown",
   "metadata": {},
   "source": [
    "# Exercise 7. 직사각형 방의 면적"
   ]
  },
  {
   "cell_type": "markdown",
   "metadata": {},
   "source": [
    "#### 목표 :  방의 면적을 계싼하는 프로그램을 작성하라. "
   ]
  },
  {
   "cell_type": "markdown",
   "metadata": {},
   "source": [
    "#### 조건\n",
    "1. 출력문과 계산부분을 분리할 것  \n",
    "2. 상수를 사용하여 변환 상수를 저장할 것  "
   ]
  },
  {
   "cell_type": "code",
   "execution_count": 18,
   "metadata": {},
   "outputs": [
    {
     "name": "stdout",
     "output_type": "stream",
     "text": [
      "What is the length of the room in feet? 15\n",
      "What is the width of the room in feet? 20\n",
      "You entered dimensions of 15 feet by 20 feet\n",
      "300\n",
      "The area is 300 square feet\n",
      "27.870912\n"
     ]
    }
   ],
   "source": [
    "# 방의 길이와 폭을 피트 단위로 입력받은 다음 제곱피트와 제곱미터로 면적을 나타내보자.\n",
    "X = input('What is the length of the room in feet? ')\n",
    "Y = input('What is the width of the room in feet? ')\n",
    "\n",
    "sentence_1 = 'You entered dimensions of {} feet by {} feet'.format(X, Y)\n",
    "print(sentence_1)\n",
    "X = int(X)\n",
    "Y = int(Y)\n",
    "square_feet = X * Y \n",
    "print(square_feet)\n",
    "\n",
    "sentence_2 = 'The area is {} square feet'.format(square_feet)\n",
    "print(sentence_2)\n",
    "\n",
    "square_meter = square_feet * 0.09290304\n",
    "print(square_meter)"
   ]
  },
  {
   "cell_type": "code",
   "execution_count": null,
   "metadata": {},
   "outputs": [],
   "source": []
  }
 ],
 "metadata": {
  "kernelspec": {
   "display_name": "Python 3",
   "language": "python",
   "name": "python3"
  },
  "language_info": {
   "codemirror_mode": {
    "name": "ipython",
    "version": 3
   },
   "file_extension": ".py",
   "mimetype": "text/x-python",
   "name": "python",
   "nbconvert_exporter": "python",
   "pygments_lexer": "ipython3",
   "version": "3.6.5"
  }
 },
 "nbformat": 4,
 "nbformat_minor": 2
}
