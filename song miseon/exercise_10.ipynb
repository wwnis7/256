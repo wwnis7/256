{
 "cells": [
  {
   "cell_type": "markdown",
   "metadata": {},
   "source": [
    "# Exercise 10. 셀프계산대"
   ]
  },
  {
   "cell_type": "markdown",
   "metadata": {},
   "source": [
    "#### 목표 :  간단한 셀프계산대 시스템을 만들어 보자."
   ]
  },
  {
   "cell_type": "markdown",
   "metadata": {},
   "source": [
    "#### 과정\n",
    "세 가지 물건의 가격과 수량을 각각 입력 받은 다음 소계를 구하고 소계에 대한 5.5%의 세금을 계산하자.  \n",
    "그리고 물건 종류별 수량과 전체 수량을 출력한 후 가격 소계, 세금, 합계 금액을 출력하자.  "
   ]
  },
  {
   "cell_type": "markdown",
   "metadata": {},
   "source": [
    "#### 조건\n",
    "1. 입력 부분, 계산 부분, 출력 부분을 프로그램에서 모두 구분되게 작성할 것.  \n",
    "즉, 입력 값을 모두 받은 다음 계산을 하고, 출력할 문자열을 생성한 후 최종 결과를 출력하자.  \n",
    "2. 계산을 시작하기 전에 반드시 입력값을 숫자 데이터로 변환시킬 것.  "
   ]
  },
  {
   "cell_type": "code",
   "execution_count": 3,
   "metadata": {},
   "outputs": [
    {
     "name": "stdout",
     "output_type": "stream",
     "text": [
      "price of item 1 is 25\n",
      "Quantity of item 1 is 2\n",
      "price of item 2 is 10\n",
      "Quantity of item 2 is 1\n",
      "price of item 3 is 4\n",
      "Quantity of item 3 is 1\n",
      "64\n",
      "\n",
      "3.52\n",
      "67.52\n"
     ]
    }
   ],
   "source": [
    "item_1 = input('price of item 1 is ')\n",
    "Quantity_1 = input('Quantity of item 1 is ')\n",
    "Subtotal_1 = int(item_1) * int(Quantity_1)\n",
    "\n",
    "item_2 = input('price of item 2 is ')\n",
    "Quantity_2 = input('Quantity of item 2 is ')\n",
    "Subtotal_2 = int(item_2) * int(Quantity_2)\n",
    "\n",
    "item_3 = input('price of item 3 is ')\n",
    "Quantity_3 = input('Quantity of item 3 is ')\n",
    "Subtotal_3 = int(item_3) * int(Quantity_3)\n",
    "\n",
    "Subtotal = Subtotal_1 + Subtotal_2 + Subtotal_3\n",
    "print(Subtotal)\n",
    "print()\n",
    "\n",
    "# Tax\n",
    "Tax = Subtotal * 0.055\n",
    "print(Tax)\n",
    "\n",
    "Final = Tax + Subtotal\n",
    "print(Final)"
   ]
  },
  {
   "cell_type": "code",
   "execution_count": null,
   "metadata": {},
   "outputs": [],
   "source": []
  }
 ],
 "metadata": {
  "kernelspec": {
   "display_name": "Python 3",
   "language": "python",
   "name": "python3"
  },
  "language_info": {
   "codemirror_mode": {
    "name": "ipython",
    "version": 3
   },
   "file_extension": ".py",
   "mimetype": "text/x-python",
   "name": "python",
   "nbconvert_exporter": "python",
   "pygments_lexer": "ipython3",
   "version": "3.6.5"
  }
 },
 "nbformat": 4,
 "nbformat_minor": 2
}
