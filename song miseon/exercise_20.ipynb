{
 "cells": [
  {
   "cell_type": "markdown",
   "metadata": {},
   "source": [
    "# Exercise 20. 여러 주를 지원하는 세금 계산기"
   ]
  },
  {
   "cell_type": "markdown",
   "metadata": {},
   "source": [
    "#### 목표 \n",
    "여러 주와 하나의 주 내에 있는 카운티에 따라 달라지는 세금 계산기를 작성하라.  \n",
    "먼저 주문 가격을 입력 받고 주문할 주를 입력 받는다.  "
   ]
  },
  {
   "cell_type": "markdown",
   "metadata": {},
   "source": [
    "#### 과정\n",
    "위스콘신 주의 경우에는 카운티를 추가로 입력 받는다. \n",
    "* Eau Claire 카운티의 경우 추가로 0.005의 세금을 더한다.\n",
    "* Dunn 카운티의 경우 추가로 0.004의 세금을 더한다.\n",
    "* 일리노이 주의 경우에는 8%의 세금을 부과하며 카운티 세금은 부과하지 않는다.  \n",
    "* 나머지 다른 주는 추가 세금을 받지 않는다.  \n",
    "\n",
    "이렇게 입력 받은 내용은 계산하여 위스콘신과 일리노이 주에 대해서는 세금과 세금이 포함된 총 금액을 출력하고, 나머지 주에 대해서는 세금이 포함된 총 금액만을 출력한다."
   ]
  },
  {
   "cell_type": "code",
   "execution_count": 1,
   "metadata": {},
   "outputs": [
    {
     "name": "stdout",
     "output_type": "stream",
     "text": [
      "What is the order amount? 10\n",
      "What state do you live in? Wisconsin\n",
      "What country do you live in? Eau Claire\n",
      "The total is 10.6\n"
     ]
    }
   ],
   "source": [
    "amount = input('What is the order amount? ')\n",
    "amount = int(amount)\n",
    "\n",
    "state = input('What state do you live in? ')\n",
    "state = str(state)\n",
    "\n",
    "country = input('What country do you live in? ')\n",
    "country = str(country)\n",
    "\n",
    "if (country == 'Eau Claire'):\n",
    "    state_tax = 0.55\n",
    "    country_tax = 0.05\n",
    "    total_tax = state_tax + country_tax \n",
    "    total = amount + total_tax\n",
    "    Final = 'The total is {}'.format(total)\n",
    "    print(Final)\n",
    "elif (country == 'Dunn'):\n",
    "    state_tax = 0.55\n",
    "    country_tax = 0.04\n",
    "    total_tax = state_tax + country_tax\n",
    "    total = amount + total_tax\n",
    "    Final = 'The total is {}'.format(total)\n",
    "    print(Final)\n",
    "elif (state == 'Illinois'):\n",
    "    state_tax = 0.8\n",
    "    total = amount + state_tax\n",
    "    Final = 'The total is {}'.format(total)\n",
    "    print(Final)\n",
    "else:\n",
    "    Final = 'The total is {}'.format(amount)\n",
    "    print(Final)"
   ]
  },
  {
   "cell_type": "code",
   "execution_count": 2,
   "metadata": {},
   "outputs": [
    {
     "name": "stdout",
     "output_type": "stream",
     "text": [
      "What is the order amount? 10\n",
      "What state do you live in? Wisconsin\n",
      "What country do you live in? Dunn\n",
      "The total is 10.59\n"
     ]
    }
   ],
   "source": [
    "# test at Dunn of Wisconsin\n",
    "amount = input('What is the order amount? ')\n",
    "amount = int(amount)\n",
    "\n",
    "state = input('What state do you live in? ')\n",
    "state = str(state)\n",
    "\n",
    "country = input('What country do you live in? ')\n",
    "country = str(country)\n",
    "\n",
    "if (country == 'Eau Claire'):\n",
    "    state_tax = 0.55\n",
    "    country_tax = 0.05\n",
    "    total_tax = state_tax + country_tax \n",
    "    total = amount + total_tax\n",
    "    Final = 'The total is {}'.format(total)\n",
    "    print(Final)\n",
    "elif (country == 'Dunn'):\n",
    "    state_tax = 0.55\n",
    "    country_tax = 0.04\n",
    "    total_tax = state_tax + country_tax\n",
    "    total = amount + total_tax\n",
    "    Final = 'The total is {}'.format(total)\n",
    "    print(Final)\n",
    "elif (state == 'Illinois'):\n",
    "    state_tax = 0.8\n",
    "    total = amount + state_tax\n",
    "    Final = 'The total is {}'.format(total)\n",
    "    print(Final)\n",
    "else:\n",
    "    Final = 'The total is {}'.format(amount)\n",
    "    print(Final)"
   ]
  },
  {
   "cell_type": "code",
   "execution_count": null,
   "metadata": {},
   "outputs": [],
   "source": []
  }
 ],
 "metadata": {
  "kernelspec": {
   "display_name": "Python 3",
   "language": "python",
   "name": "python3"
  },
  "language_info": {
   "codemirror_mode": {
    "name": "ipython",
    "version": 3
   },
   "file_extension": ".py",
   "mimetype": "text/x-python",
   "name": "python",
   "nbconvert_exporter": "python",
   "pygments_lexer": "ipython3",
   "version": "3.6.5"
  }
 },
 "nbformat": 4,
 "nbformat_minor": 2
}
