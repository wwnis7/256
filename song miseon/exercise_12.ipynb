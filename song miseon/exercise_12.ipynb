{
 "cells": [
  {
   "cell_type": "markdown",
   "metadata": {},
   "source": [
    "# Exercise 12. 단리 계산"
   ]
  },
  {
   "cell_type": "markdown",
   "metadata": {},
   "source": [
    "#### 목표 : 단리를 계산하는 프로그램을 작성하라."
   ]
  },
  {
   "cell_type": "markdown",
   "metadata": {},
   "source": [
    "#### 과정\n",
    "원금을 입력 받은 다음 이자를 퍼센트 단위로 입력 받고, 기간을 연단위로 입력 받은 후 원리금(원금 + 이자)을 출력해보자.  \n",
    "\n",
    "공식  \n",
    "원리금 = 원금 x {1 + 연이율 x 기간(연단위)}"
   ]
  },
  {
   "cell_type": "markdown",
   "metadata": {},
   "source": [
    "#### 조건\n",
    "1. 연이율은 반드시 퍼센트 단위로 입력 받은 후 프로그램에서 입력 값을 100으로 나누어 계산할 것  \n",
    "2. 센트를 기준으로 하는 소숫점 다음에 숫자가 있을 때는 센트를 기준으로 올림 처리를 할 것  \n",
    "3. 출력되는 원리금은 화폐 단위로 출력할 것  "
   ]
  },
  {
   "cell_type": "code",
   "execution_count": 4,
   "metadata": {},
   "outputs": [
    {
     "name": "stdout",
     "output_type": "stream",
     "text": [
      "How much is the principal? 1500\n",
      "what is the annual interest rate? 4.3\n",
      "How long is the year? 4\n",
      "\n",
      "After 4 years at 4.3%, the investment will be worth $1758.0\n"
     ]
    }
   ],
   "source": [
    "principal = input('How much is the principal? ')\n",
    "interest = input('what is the annual interest rate? ')\n",
    "year = input('How long is the year? ')\n",
    "print()\n",
    "\n",
    "principal = int(principal)\n",
    "interest = float(interest)\n",
    "year = int(year)\n",
    "\n",
    "interest_rate = interest / 100\n",
    "principal_worth = principal * (1 + (interest_rate * year))\n",
    "sentence = 'After {} years at {}%, the investment will be worth ${}'.format(year, \n",
    "                                                                            interest,\n",
    "                                                                           principal_worth)\n",
    "print(sentence)"
   ]
  },
  {
   "cell_type": "code",
   "execution_count": null,
   "metadata": {},
   "outputs": [],
   "source": []
  }
 ],
 "metadata": {
  "kernelspec": {
   "display_name": "Python 3",
   "language": "python",
   "name": "python3"
  },
  "language_info": {
   "codemirror_mode": {
    "name": "ipython",
    "version": 3
   },
   "file_extension": ".py",
   "mimetype": "text/x-python",
   "name": "python",
   "nbconvert_exporter": "python",
   "pygments_lexer": "ipython3",
   "version": "3.6.5"
  }
 },
 "nbformat": 4,
 "nbformat_minor": 2
}
