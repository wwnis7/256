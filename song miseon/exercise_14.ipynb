{
 "cells": [
  {
   "cell_type": "markdown",
   "metadata": {},
   "source": [
    "# Exercise 14. 세금 계산기"
   ]
  },
  {
   "cell_type": "markdown",
   "metadata": {},
   "source": [
    "#### 목표 : 입력한 가격에 대한 세금을 계산하는 프로그램을 작성하라."
   ]
  },
  {
   "cell_type": "markdown",
   "metadata": {},
   "source": [
    "#### 과정\n",
    "프로그램은 주문 가격과 함께 주(state) 이름을 입력 받는데, 주 이름이 위스콘신 주 거주자에 해당하는 경우 세율은 5.5%가 된다.   \n",
    "즉, 프로그램은 위스콘신 주 거주자에 해당하는 소계, 세율, 합계 금액을 출력하지만 다른 주에 거주하는 경우에는 합계 금액만을 출력한다."
   ]
  },
  {
   "cell_type": "markdown",
   "metadata": {},
   "source": [
    "#### 조건 \n",
    "1. 오직 if문만 사용하여 작성할 것(else문을 절대 사용해서는 안됨)  \n",
    "2. 모든 금액은 가장 가까운 센트로 반올림할 것  \n",
    "3. 프로그램의 마지막에 한 개의 출력문만 사용하여 결과를 출력할 것"
   ]
  },
  {
   "cell_type": "code",
   "execution_count": 1,
   "metadata": {},
   "outputs": [
    {
     "name": "stdout",
     "output_type": "stream",
     "text": [
      "What is the order amount? 10\n",
      "What is the state? WI\n",
      "The subtotal is 10\n",
      "The tax is $0.55\n",
      "The total is $10.55\n"
     ]
    }
   ],
   "source": [
    "# Wisconsin - tax 5.5%\n",
    "amount = input('What is the order amount? ')\n",
    "state = input('What is the state? ')\n",
    "\n",
    "amount = int(amount)\n",
    "Subtotal = 'The subtotal is {}'.format(amount)\n",
    "print(Subtotal)\n",
    "tax = float(5.5) / amount\n",
    "\n",
    "tax_sentence = 'The tax is ${}'.format(tax)\n",
    "print(tax_sentence)\n",
    "\n",
    "total = amount + tax\n",
    "sentence = 'The total is ${}'.format(total)\n",
    "print(sentence)\n",
    "\n"
   ]
  },
  {
   "cell_type": "code",
   "execution_count": 10,
   "metadata": {},
   "outputs": [
    {
     "name": "stdout",
     "output_type": "stream",
     "text": [
      "What is the order amount? 10\n",
      "What is the state? WI\n",
      "The total is $10.55\n"
     ]
    }
   ],
   "source": [
    "# Using 'if'\n",
    "amount = input('What is the order amount? ')\n",
    "amount = int(amount)\n",
    "\n",
    "state = input('What is the state? ')\n",
    "\n",
    "WI = 5.5\n",
    "if (state == WI):\n",
    "    tax = float(5.5) / amount\n",
    "    total = amount + tax\n",
    "    sentence = 'The total is ${}'.format(total)\n",
    "print(sentence)\n",
    "        \n",
    "    "
   ]
  },
  {
   "cell_type": "code",
   "execution_count": null,
   "metadata": {},
   "outputs": [],
   "source": []
  }
 ],
 "metadata": {
  "kernelspec": {
   "display_name": "Python 3",
   "language": "python",
   "name": "python3"
  },
  "language_info": {
   "codemirror_mode": {
    "name": "ipython",
    "version": 3
   },
   "file_extension": ".py",
   "mimetype": "text/x-python",
   "name": "python",
   "nbconvert_exporter": "python",
   "pygments_lexer": "ipython3",
   "version": "3.6.5"
  }
 },
 "nbformat": 4,
 "nbformat_minor": 2
}
