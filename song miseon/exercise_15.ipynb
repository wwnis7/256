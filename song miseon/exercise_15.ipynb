{
 "cells": [
  {
   "cell_type": "markdown",
   "metadata": {},
   "source": [
    "# Exercise 15. 암호 검증"
   ]
  },
  {
   "cell_type": "markdown",
   "metadata": {},
   "source": [
    "#### 목표 : 사용자 로그인 증명을 검증하는 간단한 프로그램을 작성하라."
   ]
  },
  {
   "cell_type": "markdown",
   "metadata": {},
   "source": [
    "#### 과정\n",
    "암호는 미리 저장한 값과 사용자가 입력한 값을 비교하는 것으로 검증한다.  \n",
    "  \n",
    "프로그램은 사용자 이름과 암호를 입력 받은 다음, 미리 저장된 사용자 이름에 대한 암호를 비교하여 암호가 일치하면 \"Welcome!\"을, 그렇지 않으면 \"That password is incorrect.\"를 출력한다.  "
   ]
  },
  {
   "cell_type": "markdown",
   "metadata": {},
   "source": [
    "#### 조건\n",
    "1. 이 문제를 해결하기 위해 if/else문을 사용할 것  \n",
    "2. 사용자 이름과 암호는 대소문자를 구별하도록 할 것  "
   ]
  },
  {
   "cell_type": "code",
   "execution_count": 6,
   "metadata": {},
   "outputs": [
    {
     "name": "stdout",
     "output_type": "stream",
     "text": [
      "What is the password? 11111\n",
      "11111\n",
      "That password is incorrect.\n"
     ]
    }
   ],
   "source": [
    "ID = 'miseon'\n",
    "if (ID == 'miseon'):\n",
    "    X = input('What is the password? ')\n",
    "    print(X)\n",
    "    X = str(X)\n",
    "    password = X\n",
    "    if (password == 'abc$123'):\n",
    "        print('Welcome!')\n",
    "    else:\n",
    "        print('That password is incorrect.')"
   ]
  },
  {
   "cell_type": "code",
   "execution_count": 5,
   "metadata": {},
   "outputs": [
    {
     "name": "stdout",
     "output_type": "stream",
     "text": [
      "What is the password? abc$123\n",
      "abc$123\n",
      "Welcome!\n"
     ]
    }
   ],
   "source": [
    "# test\n",
    "ID = 'miseon'\n",
    "if (ID == 'miseon'):\n",
    "    X = input('What is the password? ')\n",
    "    print(X)\n",
    "    X = str(X)\n",
    "    password = X\n",
    "    if (password == 'abc$123'):\n",
    "        print('Welcome!')\n",
    "    else:\n",
    "        print('That password is incorrect.')"
   ]
  },
  {
   "cell_type": "code",
   "execution_count": null,
   "metadata": {},
   "outputs": [],
   "source": []
  }
 ],
 "metadata": {
  "kernelspec": {
   "display_name": "Python 3",
   "language": "python",
   "name": "python3"
  },
  "language_info": {
   "codemirror_mode": {
    "name": "ipython",
    "version": 3
   },
   "file_extension": ".py",
   "mimetype": "text/x-python",
   "name": "python",
   "nbconvert_exporter": "python",
   "pygments_lexer": "ipython3",
   "version": "3.6.5"
  }
 },
 "nbformat": 4,
 "nbformat_minor": 2
}
