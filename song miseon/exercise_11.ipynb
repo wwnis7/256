{
 "cells": [
  {
   "cell_type": "markdown",
   "metadata": {},
   "source": [
    "# Exercise 11. 환율 변환"
   ]
  },
  {
   "cell_type": "markdown",
   "metadata": {},
   "source": [
    "#### 목표 : 환율을 변환하는 프로그램을 작성하라."
   ]
  },
  {
   "cell_type": "markdown",
   "metadata": {},
   "source": [
    "#### 과정\n",
    "먼저 유로 금액을 입력 받은 다음 유로 환율을 입력 받는다.  \n",
    "그리고는 유로에 해당하는 미국 달러 값을 출력한다.  "
   ]
  },
  {
   "cell_type": "markdown",
   "metadata": {},
   "source": [
    "#### 조건\n",
    "1. 센트를 기준으로 하는 소숫점 다음에 숫자가 있을 때는 센트를 기준으로 올림 처리를 할 것  \n",
    "2. 한 개의 출력문만 사용할 것"
   ]
  },
  {
   "cell_type": "code",
   "execution_count": 3,
   "metadata": {},
   "outputs": [
    {
     "name": "stdout",
     "output_type": "stream",
     "text": [
      "How many Euros are you exchanging? 81\n",
      "What is the exchange rate? 137.51\n",
      "81 Euros at an exchange rate of 137.51 is 111.3831 dollars\n"
     ]
    }
   ],
   "source": [
    "sentence_1 = input('How many Euros are you exchanging? ')\n",
    "Euros = int(sentence_1)\n",
    "\n",
    "exchange_rate = 137.51\n",
    "sentence_2 = 'What is the exchange rate? {}'.format(exchange_rate)\n",
    "print(sentence_2)\n",
    "\n",
    "Dollar = Euros * exchange_rate / 100\n",
    "sentence = '{} Euros at an exchange rate of {} is {} dollars'.format(Euros, exchange_rate,\n",
    "                                                                      Dollar)\n",
    "print(sentence)"
   ]
  },
  {
   "cell_type": "code",
   "execution_count": null,
   "metadata": {},
   "outputs": [],
   "source": []
  }
 ],
 "metadata": {
  "kernelspec": {
   "display_name": "Python 3",
   "language": "python",
   "name": "python3"
  },
  "language_info": {
   "codemirror_mode": {
    "name": "ipython",
    "version": 3
   },
   "file_extension": ".py",
   "mimetype": "text/x-python",
   "name": "python",
   "nbconvert_exporter": "python",
   "pygments_lexer": "ipython3",
   "version": "3.6.5"
  }
 },
 "nbformat": 4,
 "nbformat_minor": 2
}
