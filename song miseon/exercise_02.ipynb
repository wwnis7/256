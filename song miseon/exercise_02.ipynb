{
 "cells": [
  {
   "cell_type": "markdown",
   "metadata": {},
   "source": [
    "### Exercise 2. 글자 수 세기"
   ]
  },
  {
   "cell_type": "markdown",
   "metadata": {},
   "source": [
    "#### 목표: 문자열을 입력 받은 다음 입력 받은 문자열과 문자열의 글자 수를 출력하는 프로그램을 작성하라."
   ]
  },
  {
   "cell_type": "markdown",
   "metadata": {},
   "source": [
    "#### 조건\n",
    "* 출력 결과에는 입력 받은 문자열이 그대로 나타나도록 할 것\n",
    "* 출력을 위해 하나의 출력문을 사용할 것\n",
    "* 문자열의 길이를 구하기 위해 프로그래밍 언어에서 제공하는 내장함수를 사용할 것"
   ]
  },
  {
   "cell_type": "code",
   "execution_count": 31,
   "metadata": {},
   "outputs": [
    {
     "name": "stdout",
     "output_type": "stream",
     "text": [
      "What is the input string?\n",
      "winter\n",
      "winter has 6 characters.\n"
     ]
    }
   ],
   "source": [
    "# Number of letters\n",
    "import numpy as np\n",
    "\n",
    "question = \"What is the input string?\"\n",
    "print(question)\n",
    "\n",
    "# string\n",
    "word = input('')\n",
    "counting = len(word)\n",
    "#print(counting)\n",
    "statement = word + ' has ' + str(counting)  + ' characters.'\n",
    "print(statement)"
   ]
  },
  {
   "cell_type": "code",
   "execution_count": 1,
   "metadata": {},
   "outputs": [
    {
     "name": "stdout",
     "output_type": "stream",
     "text": [
      "What is the input string?\n",
      "winter\n",
      "winter has 6 characters.\n"
     ]
    }
   ],
   "source": [
    "# Number of letters\n",
    "import numpy as np\n",
    "\n",
    "question = \"What is the input string?\"\n",
    "print(question)\n",
    "\n",
    "# string\n",
    "word = input('')\n",
    "counting = len(word)\n",
    "#print(counting)\n",
    "statement = '{} has {} characters.'.format(word, counting)\n",
    "print(statement)"
   ]
  },
  {
   "cell_type": "markdown",
   "metadata": {},
   "source": [
    "### Test"
   ]
  },
  {
   "cell_type": "code",
   "execution_count": 19,
   "metadata": {},
   "outputs": [
    {
     "name": "stdout",
     "output_type": "stream",
     "text": [
      "winter\n",
      "6\n"
     ]
    }
   ],
   "source": [
    "word = 'winter'\n",
    "print(word)\n",
    "counting = len(word)\n",
    "print(counting)"
   ]
  },
  {
   "cell_type": "markdown",
   "metadata": {},
   "source": [
    "## Advanced practice\n",
    "1. 사용자가 아무 것도 입력하지 않은 채로 엔터 키를 치면 무엇이라도 입력하라는 메시지를 나타내보자.  "
   ]
  },
  {
   "cell_type": "markdown",
   "metadata": {},
   "source": [
    "2. 이 프로그램을 GUI(그래픽 사용자 인터페이스) 버전으로 작성하여 글자를 입력할 때마다 글자 수가 바로 바로  \n",
    "업데이트되도록 하라. 만일 여러분이 사용하는 언어에 GUI 라이브러리가 없다면 HTML과 JavaScript를 사용하라.  "
   ]
  },
  {
   "cell_type": "code",
   "execution_count": null,
   "metadata": {},
   "outputs": [],
   "source": []
  }
 ],
 "metadata": {
  "kernelspec": {
   "display_name": "Python 3",
   "language": "python",
   "name": "python3"
  },
  "language_info": {
   "codemirror_mode": {
    "name": "ipython",
    "version": 3
   },
   "file_extension": ".py",
   "mimetype": "text/x-python",
   "name": "python",
   "nbconvert_exporter": "python",
   "pygments_lexer": "ipython3",
   "version": "3.6.5"
  }
 },
 "nbformat": 4,
 "nbformat_minor": 2
}
