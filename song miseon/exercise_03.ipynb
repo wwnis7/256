{
 "cells": [
  {
   "cell_type": "markdown",
   "metadata": {},
   "source": [
    "### Exercise 3. 따옴표 출력"
   ]
  },
  {
   "cell_type": "markdown",
   "metadata": {},
   "source": [
    "#### 목표 : 인용구와 그 말을 한 사람을 입력 받는 프로그램을 작성하자."
   ]
  },
  {
   "cell_type": "markdown",
   "metadata": {},
   "source": [
    "#### 조건\n",
    "* 한 개의 출력문만 사용하여 결과를 출력할 것.  \n",
    "이때 따옴표를 출력하기 위해 적절한 확장문자를 사용해야 한다.  \n",
    "* 만일 사용하는 프로그래밍 언어가 문자열 보간(String Interpolation)이나 문자열 대체(String Substitution)를 지원하는 경우라도  \n",
    "이 기능들을 사용하지 말고 그냥 문자열 연결(String Concatemation)을 사용할 것  "
   ]
  },
  {
   "cell_type": "code",
   "execution_count": 26,
   "metadata": {},
   "outputs": [
    {
     "name": "stdout",
     "output_type": "stream",
     "text": [
      "What is the quote?\n",
      " These aren't the droids you're looking for\n",
      "Who said it?\n",
      " Obi-Wan Kenobi\n",
      "Obi-Wan Kenobi says, \"These aren't the droids you're looking for\".\n"
     ]
    }
   ],
   "source": [
    "statement_1 = \"What is the quote?\"\n",
    "print(statement_1)\n",
    "quote_1 = input(' ')\n",
    "# These aren't the droids you're looking for\n",
    "statement_2 = \"Who said it?\"\n",
    "print(statement_2)\n",
    "quote_2 = input(' ')\n",
    "# Obi-Wan Kenobi\n",
    "\n",
    "Result = quote_2 + ' says, '  + '\"' + quote_1 + '\"' + \".\"\n",
    "print(Result)"
   ]
  },
  {
   "cell_type": "code",
   "execution_count": 1,
   "metadata": {},
   "outputs": [
    {
     "name": "stdout",
     "output_type": "stream",
     "text": [
      "What is the quote?\n",
      " These aren't the droids you're looking for\n",
      "Who said it?\n",
      " Obi-Wan Kenobi\n",
      "Obi-Wan Kenobi says, \"These aren't the droids you're looking for\".\n"
     ]
    }
   ],
   "source": [
    "statement_1 = \"What is the quote?\"\n",
    "print(statement_1)\n",
    "quote_1 = input(' ')\n",
    "# These aren't the droids you're looking for\n",
    "statement_2 = \"Who said it?\"\n",
    "print(statement_2)\n",
    "quote_2 = input(' ')\n",
    "# Obi-Wan Kenobi\n",
    "\n",
    "Result = '{} says, \"{}\".'.format(quote_2, quote_1)\n",
    "print(Result)"
   ]
  },
  {
   "cell_type": "markdown",
   "metadata": {},
   "source": [
    "### Test"
   ]
  },
  {
   "cell_type": "code",
   "execution_count": 39,
   "metadata": {},
   "outputs": [
    {
     "name": "stdout",
     "output_type": "stream",
     "text": [
      "\"Life is too short.\"\n",
      "\"you are so beautiful\"\n"
     ]
    }
   ],
   "source": [
    "a = \"\\\"Life is too short.\\\"\"\n",
    "print(a)\n",
    "\n",
    "b = '\"you are so beautiful\"'\n",
    "print(b)"
   ]
  },
  {
   "cell_type": "code",
   "execution_count": 42,
   "metadata": {},
   "outputs": [
    {
     "name": "stdout",
     "output_type": "stream",
     "text": [
      "I like you. \n",
      "because\n",
      "you are so beautiful.\n"
     ]
    }
   ],
   "source": [
    "a = \"\"\"I like you. \n",
    "because\n",
    "you are so beautiful.\"\"\"\n",
    "\n",
    "print(a)"
   ]
  },
  {
   "cell_type": "markdown",
   "metadata": {},
   "source": [
    "## Advanced practice\n",
    "1. 프로그램을 수정하여 사용자로부터 입력을 받는 대신 인용구와 이와 관련된 내용(사람이름)을 담는 자료 구조를 만들어  \n",
    "모든 내용을 앞의 출력 예와 같이 나타내보자. 맵 형태의 배열을 사용하면 좋을 것이다.  "
   ]
  },
  {
   "cell_type": "code",
   "execution_count": null,
   "metadata": {},
   "outputs": [],
   "source": []
  }
 ],
 "metadata": {
  "kernelspec": {
   "display_name": "Python 3",
   "language": "python",
   "name": "python3"
  },
  "language_info": {
   "codemirror_mode": {
    "name": "ipython",
    "version": 3
   },
   "file_extension": ".py",
   "mimetype": "text/x-python",
   "name": "python",
   "nbconvert_exporter": "python",
   "pygments_lexer": "ipython3",
   "version": "3.6.5"
  }
 },
 "nbformat": 4,
 "nbformat_minor": 2
}
