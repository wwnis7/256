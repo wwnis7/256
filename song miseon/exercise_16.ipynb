{
 "cells": [
  {
   "cell_type": "markdown",
   "metadata": {},
   "source": [
    "# Exercise 16. 합법적으로 운전 가능한 연령"
   ]
  },
  {
   "cell_type": "markdown",
   "metadata": {},
   "source": [
    "#### 목표 \n",
    "나이를 입력 받아 미국법상 운전 가능한 나이인 16세와 비교하여 16 이상이면 \"You are old enough to legally drive.\"라고 출력하고, 16미만이면 \"You are not old enough to legally drive.\"라고 출력하는 프로그램을 작성하라. "
   ]
  },
  {
   "cell_type": "markdown",
   "metadata": {},
   "source": [
    "#### 조건\n",
    "1. 한 개의 출력문만 사용할 것  \n",
    "2. 3항 연산자를 사용할 것.  \n",
    "사용하는 프로그래밍 언어가 3항 연산자를 지원하지 않는다면 일반적인 if/else문을 사용할 것.  \n",
    "하지만 여전히 메시지를 출력하는 출력문은 한 개만 사용할 것 "
   ]
  },
  {
   "cell_type": "code",
   "execution_count": 2,
   "metadata": {},
   "outputs": [
    {
     "name": "stdout",
     "output_type": "stream",
     "text": [
      "What is yout age? 17\n",
      "You are old enough to legally drive.\n"
     ]
    }
   ],
   "source": [
    "age = input(\"What is yout age? \")\n",
    "age = int(age)\n",
    "\n",
    "if (age >= 16):\n",
    "    print(\"You are old enough to legally drive.\")\n",
    "else:\n",
    "    print(\"You are not old enough to legally drive.\")\n",
    "    "
   ]
  },
  {
   "cell_type": "code",
   "execution_count": 4,
   "metadata": {},
   "outputs": [
    {
     "name": "stdout",
     "output_type": "stream",
     "text": [
      "What is yout age? 14\n",
      "You are not old enough to legally drive.\n"
     ]
    }
   ],
   "source": [
    "# test\n",
    "age = input(\"What is yout age? \")\n",
    "age = int(age)\n",
    "\n",
    "if (age >= 16):\n",
    "    print(\"You are old enough to legally drive.\")\n",
    "else:\n",
    "    print(\"You are not old enough to legally drive.\")\n",
    "    "
   ]
  },
  {
   "cell_type": "code",
   "execution_count": null,
   "metadata": {},
   "outputs": [],
   "source": []
  }
 ],
 "metadata": {
  "kernelspec": {
   "display_name": "Python 3",
   "language": "python",
   "name": "python3"
  },
  "language_info": {
   "codemirror_mode": {
    "name": "ipython",
    "version": 3
   },
   "file_extension": ".py",
   "mimetype": "text/x-python",
   "name": "python",
   "nbconvert_exporter": "python",
   "pygments_lexer": "ipython3",
   "version": "3.6.5"
  }
 },
 "nbformat": 4,
 "nbformat_minor": 2
}
