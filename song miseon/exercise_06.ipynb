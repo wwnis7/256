{
 "cells": [
  {
   "cell_type": "markdown",
   "metadata": {},
   "source": [
    "# Exercise 6. 퇴직 계산기"
   ]
  },
  {
   "cell_type": "markdown",
   "metadata": {},
   "source": [
    "#### 목표 : 정년까지 몇 년 남았는지, 퇴직하는 해는 몇 년이 되는지를 계산하는 프로그램을 작성하라. "
   ]
  },
  {
   "cell_type": "markdown",
   "metadata": {},
   "source": [
    "#### 조건\n",
    "1. 수학 계산에 사용하기 전에 입력 값을 꼭 숫자로 변환시킬 것  \n",
    "2. 올해 년도를 프로그램에 직접 넣지 말 것. 대신 프로그래밍 언어를 통해 시스템 날짜를 구해서 사용할 것"
   ]
  },
  {
   "cell_type": "code",
   "execution_count": 7,
   "metadata": {},
   "outputs": [
    {
     "name": "stdout",
     "output_type": "stream",
     "text": [
      "What is your current age? 25\n",
      "At What age would you like to retire? 65\n",
      "40\n",
      "You have 40 years left until you can retire.\n"
     ]
    }
   ],
   "source": [
    "# 이 프로그램은 현재 나이와 퇴직하고자 하는 나이를 입력 받는다.\n",
    "\n",
    "X = int(input('What is your current age? '))\n",
    "Y = int(input('At What age would you like to retire? '))\n",
    "# print(type(X))\n",
    "Z = Y - X\n",
    "print(Z)\n",
    "\n",
    "# retire program algorithm\n",
    "Final = print('You have ' + str(Z) + ' years left until you can retire.')"
   ]
  },
  {
   "cell_type": "code",
   "execution_count": null,
   "metadata": {},
   "outputs": [],
   "source": []
  }
 ],
 "metadata": {
  "kernelspec": {
   "display_name": "Python 3",
   "language": "python",
   "name": "python3"
  },
  "language_info": {
   "codemirror_mode": {
    "name": "ipython",
    "version": 3
   },
   "file_extension": ".py",
   "mimetype": "text/x-python",
   "name": "python",
   "nbconvert_exporter": "python",
   "pygments_lexer": "ipython3",
   "version": "3.6.5"
  }
 },
 "nbformat": 4,
 "nbformat_minor": 2
}
