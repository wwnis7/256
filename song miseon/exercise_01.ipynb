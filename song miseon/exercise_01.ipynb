{
 "cells": [
  {
   "cell_type": "markdown",
   "metadata": {},
   "source": [
    "# Chapter 2.\n",
    "## Input, Processing, Output"
   ]
  },
  {
   "cell_type": "markdown",
   "metadata": {},
   "source": [
    "### Exercise 1. 인사하기"
   ]
  },
  {
   "cell_type": "markdown",
   "metadata": {},
   "source": [
    "#### 목표 : 이름을 입력 받아 이름을 이용하여 인사말을 출력하는 프로그램을 작성하자."
   ]
  },
  {
   "cell_type": "markdown",
   "metadata": {},
   "source": [
    "Greeting Initialize question to 0   \n",
    "Initialize name to 0  \n",
    "Initialize Statement to 0  \n",
    "Initialize Result to 0  \n",
    "\n",
    "    Prompt for question with \"What is the your name?\"  \n",
    "    Prompt for name with \"your name\"     \n",
    "\n",
    "    convert question to a statement    \n",
    "    convert name to a string format  \n",
    "\n",
    "    name = '이름을 입력하세요'  \n",
    "    question = \"what is your name?\"    \n",
    "    statement = Hello, (name), nice to meet you!  \n",
    "\n",
    "    Display \"name\"\n",
    "    Display \"statement\"\n",
    "    Display \"Result : statement + name  \n",
    "End "
   ]
  },
  {
   "cell_type": "markdown",
   "metadata": {},
   "source": [
    "#### 조건\n",
    "* 입력부분\n",
    "* 문자열 연결(string concatenation)부분\n",
    "* 출력 부분"
   ]
  },
  {
   "cell_type": "code",
   "execution_count": 13,
   "metadata": {},
   "outputs": [
    {
     "name": "stdout",
     "output_type": "stream",
     "text": [
      "What is your name?\n",
      "miseon\n",
      "Hello, miseon  nice to meet you!\n"
     ]
    }
   ],
   "source": [
    "# Greeting\n",
    "question = 'What is your name?'\n",
    "print(question)\n",
    "\n",
    "\n",
    "# name = input('이름을 입력하세요:  ')\n",
    "name = input('')\n",
    "statement = 'Hello, ' + name + '  nice to meet you!'\n",
    "print(statement)"
   ]
  },
  {
   "cell_type": "markdown",
   "metadata": {},
   "source": [
    "### Advanced practice\n",
    "1. 변수를 사용하지 않는 새로운 버전을 작성하라."
   ]
  },
  {
   "cell_type": "markdown",
   "metadata": {},
   "source": [
    "2. 사람들마다 서로 다른 인사말이 나타나도록 프로그램을 작성하라.  "
   ]
  },
  {
   "cell_type": "code",
   "execution_count": null,
   "metadata": {},
   "outputs": [],
   "source": []
  }
 ],
 "metadata": {
  "kernelspec": {
   "display_name": "Python 3",
   "language": "python",
   "name": "python3"
  },
  "language_info": {
   "codemirror_mode": {
    "name": "ipython",
    "version": 3
   },
   "file_extension": ".py",
   "mimetype": "text/x-python",
   "name": "python",
   "nbconvert_exporter": "python",
   "pygments_lexer": "ipython3",
   "version": "3.6.5"
  }
 },
 "nbformat": 4,
 "nbformat_minor": 2
}
