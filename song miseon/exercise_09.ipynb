{
 "cells": [
  {
   "cell_type": "markdown",
   "metadata": {},
   "source": [
    "# Exercise 9. 페인트 계산기"
   ]
  },
  {
   "cell_type": "markdown",
   "metadata": {},
   "source": [
    "#### 목표 : 천장을 칠하는 데 필요한 페인트 양을 구하는 프로그램을 작성하라."
   ]
  },
  {
   "cell_type": "markdown",
   "metadata": {},
   "source": [
    "#### 과정\n",
    "1. 길이와 폭을 입력받은 다음  \n",
    "2. 1리터에 9$m^{2}$를 칠한다고 가정하여 계산하자.  \n",
    "3. 천장으 칠하는 데 필요한 페인트 양을 정수로 표현해보자.   \n",
    "4. 반드시 1리터짜리 통 단위로 페인트를 구매해야 한다.  \n",
    "그렇게 때문에 이 문제를 해결하기 위해서는 반드시 올림을 해야 한다. "
   ]
  },
  {
   "cell_type": "markdown",
   "metadata": {},
   "source": [
    "#### 조건\n",
    "1. 상수를 사용하여 변환 상수를 저장할 것  \n",
    "2. 반드시 올림을 해서 정수 단위로 구할 것"
   ]
  },
  {
   "cell_type": "code",
   "execution_count": 9,
   "metadata": {},
   "outputs": [
    {
     "name": "stdout",
     "output_type": "stream",
     "text": [
      "How much is the length of the ceiling? 15\n",
      "How much is the width of the ceiling? 20\n",
      "300\n",
      "33.333333333333336\n",
      "\n",
      "34\n",
      "\n",
      "You will need to purchase 34 liters of paints to cover 300 square meters.\n"
     ]
    }
   ],
   "source": [
    "import math\n",
    "\n",
    "length = input('How much is the length of the ceiling? ')\n",
    "width = input('How much is the width of the ceiling? ')\n",
    "\n",
    "area = int(length) * int(width)\n",
    "print(area)\n",
    "\n",
    "paint = area / 9\n",
    "print(paint)\n",
    "print() \n",
    "\n",
    "paint = math.ceil(paint)\n",
    "print(paint)\n",
    "print()\n",
    "\n",
    "Final = 'You will need to purchase {} liters of paints to cover {} square meters.'.format(paint, area)\n",
    "print(Final)"
   ]
  },
  {
   "cell_type": "code",
   "execution_count": null,
   "metadata": {},
   "outputs": [],
   "source": []
  }
 ],
 "metadata": {
  "kernelspec": {
   "display_name": "Python 3",
   "language": "python",
   "name": "python3"
  },
  "language_info": {
   "codemirror_mode": {
    "name": "ipython",
    "version": 3
   },
   "file_extension": ".py",
   "mimetype": "text/x-python",
   "name": "python",
   "nbconvert_exporter": "python",
   "pygments_lexer": "ipython3",
   "version": "3.6.5"
  }
 },
 "nbformat": 4,
 "nbformat_minor": 2
}
