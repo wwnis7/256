{
 "cells": [
  {
   "cell_type": "markdown",
   "metadata": {},
   "source": [
    "# Exercise 17. 혈중 알코올 농도 계산기"
   ]
  },
  {
   "cell_type": "markdown",
   "metadata": {},
   "source": [
    "#### 목표 \n",
    "몸무게, 성별, 음주량(잔 수), 마신 술에 해당하는 알코올 량, 마지막으로 술을 마신 후 경과 시간을 입력 받은 다음 혈중 알코올 농도(Blood Alcohol Content,BAC)를 구하는 프로그램을 작성하라."
   ]
  },
  {
   "cell_type": "markdown",
   "metadata": {},
   "source": [
    "#### 조건\n",
    "1. 숫자 값에 숫자가 입력되도록 보장할 것"
   ]
  },
  {
   "cell_type": "markdown",
   "metadata": {},
   "source": [
    "#### 공식 \n",
    "* A = 총 알코올 소비량(oz 단위)  \n",
    "* W = 몸무게(파운드 단위)  \n",
    "* r = 성별에 따른 알코올 흡수비 계수  \n",
    "-0.73 : 남자  \n",
    "-0.6 : 여자  \n",
    "* H = 술을 마신 후 경과 시간  \n",
    "\n",
    "BAC = (A x 5.14 / W x r) - 0.015 x H  \n",
    "미국에서 법적으로 운전 가능한 BAC 값인 0.08 미만인지를 비교하여 운전 가능 여부를 출력해보자. "
   ]
  },
  {
   "cell_type": "code",
   "execution_count": 8,
   "metadata": {},
   "outputs": [
    {
     "name": "stdout",
     "output_type": "stream",
     "text": [
      "What is your total alcohol consumption? 10\n",
      "What is your weight? 50\n",
      "How long have you been drinking? 6\n",
      "-0.07848992405504251\n",
      "It is legal for you to drive.\n"
     ]
    }
   ],
   "source": [
    "A = int(input('What is your total alcohol consumption? '))\n",
    "W = int(input('What is your weight? '))\n",
    "H = int(input('How long have you been drinking? '))\n",
    "\n",
    "W = W * 2.204623 # 1kg = 2.204623lb\n",
    "A = A * 0.033814 # lml = 0.033814oz\n",
    "\n",
    "gender = 'Man' # change this Man or Woman\n",
    "if (gender == 'Man'):\n",
    "    r = 0.73\n",
    "    BAC_M = (A * 5.14 / W * r) - 0.015 * H\n",
    "    print(BAC_M)\n",
    "    if (BAC_M < 0.08):\n",
    "        print(\"It is legal for you to drive.\")\n",
    "    else:\n",
    "        print(\"It is not legal for you to drive.\")\n",
    "elif (gender == 'Woman'):\n",
    "    r = 0.6\n",
    "    BAC_W = (A * 5.14 / W * w) - 0.015 * H\n",
    "    print(BAC_W)\n",
    "    if (BAC_M < 0.08):\n",
    "        print(\"It is legal for you to drive.\")\n",
    "    else:\n",
    "        print(\"It is not legal for you to drive.\")\n",
    "\n"
   ]
  },
  {
   "cell_type": "code",
   "execution_count": 12,
   "metadata": {},
   "outputs": [
    {
     "name": "stdout",
     "output_type": "stream",
     "text": [
      "What is your total alcohol consumption? 10\n",
      "What is your weight? 50\n",
      "How long have you been drinking? 4\n",
      "-0.048489924055042516\n",
      "It is legal for you to drive.\n"
     ]
    }
   ],
   "source": [
    "A = int(input('What is your total alcohol consumption? '))\n",
    "W = int(input('What is your weight? '))\n",
    "H = int(input('How long have you been drinking? '))\n",
    "\n",
    "W = W * 2.204623 # 1kg = 2.204623lb\n",
    "A = A * 0.033814 # lml = 0.033814oz\n",
    "\n",
    "gender = 0 # change this Man(0) or Woman(1)\n",
    "if (gender == 0):\n",
    "    r = 0.73\n",
    "    BAC_M = (A * 5.14 / W * r) - 0.015 * H\n",
    "    print(BAC_M)\n",
    "    if (BAC_M < 0.08):\n",
    "        print(\"It is legal for you to drive.\")\n",
    "    else:\n",
    "        print(\"It is not legal for you to drive.\")\n",
    "else:\n",
    "    r = 0.6\n",
    "    BAC_W = (A * 5.14 / W * w) - 0.015 * H\n",
    "    print(BAC_W)\n",
    "    if (BAC_M < 0.08):\n",
    "        print(\"It is legal for you to drive.\")\n",
    "    else:\n",
    "        print(\"It is not legal for you to drive.\")\n",
    "\n"
   ]
  },
  {
   "cell_type": "code",
   "execution_count": null,
   "metadata": {},
   "outputs": [],
   "source": []
  }
 ],
 "metadata": {
  "kernelspec": {
   "display_name": "Python 3",
   "language": "python",
   "name": "python3"
  },
  "language_info": {
   "codemirror_mode": {
    "name": "ipython",
    "version": 3
   },
   "file_extension": ".py",
   "mimetype": "text/x-python",
   "name": "python",
   "nbconvert_exporter": "python",
   "pygments_lexer": "ipython3",
   "version": "3.6.5"
  }
 },
 "nbformat": 4,
 "nbformat_minor": 2
}
