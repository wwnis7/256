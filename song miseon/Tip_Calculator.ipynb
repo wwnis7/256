{
 "cells": [
  {
   "cell_type": "markdown",
   "metadata": {},
   "source": [
    "# Test Driven Development(TDD)\n",
    "프로그램의 출력 값, 혹은 대규모 프록램을 구성하는 개개의 프로그램의 출력 값들을 테스트하는 최소한의 코드를 작성해야 한다.  \n",
    "\n",
    "Inputs : \n",
    "Expected result :\n",
    "Actual result :\n",
    "\n",
    "### example  \n",
    "Inputs:  \n",
    "    bill aomunt: 10  \n",
    "    tip rate: 15  \n",
    "Expected result:  \n",
    "    Tip: 1.50      \n",
    "    Total: 11.50   \n",
    "    \n",
    "### another example\n",
    "Inputs:  \n",
    "    bill amount: 11.25  \n",
    "    tip rate: 15  \n",
    "Expected result:  \n",
    "    Tip:???  \n",
    "    Total:???  \n",
    "    \n",
    "단순히 계산하면 나오지만, 반올림해서 단위를 맞춰주는 추가과정을 생각해야한다.  "
   ]
  },
  {
   "cell_type": "markdown",
   "metadata": {},
   "source": [
    " #### 각 프로그래밍 언어별 테스트 프레임워크 목록은 위키피디아에서 확인할 수 있다.\n",
    " Test Driven Development By Example - Kent Beck, 2009  "
   ]
  },
  {
   "cell_type": "markdown",
   "metadata": {},
   "source": [
    "## 의사코드(Pseudocode)로 알고리즘 작성하기\n",
    "알고리즘은 어떤 일을 실행하기 위해 필요한 명령(Operation) 세트를 순서대로 나열한 것을 일컫는다.  \n",
    "\n",
    "의사코드 용어  \n",
    "1) Initialize 는 초기 값을 지정하는 데 사용  \n",
    "2) Prompt 는 입력을 기다리고 있음을 표시하는 데 사용  \n",
    "3) Display는 현재 화명에 표시하는 내용을 알려줄 때 사용  \n",
    "\n",
    "### Example\n",
    "팁 계산기를 의사코드로 작성한 예시  \n",
    "\n",
    "TipCaclulator\n",
    "    Initialize billAmount to 0  \n",
    "    Initialize tip to 0  \n",
    "    Initialize tipRate to 0  \n",
    "    Initialize total to 0  \n",
    "    \n",
    "    Prompt for billAmount with \"What is the bill amount?\"  \n",
    "    Prompt for tipRate with \"What is the tip rate?\"  \n",
    "\n",
    "    convert billAmount to a number  \n",
    "    convert tipRate to a number  \n",
    "\n",
    "    tip = billAmount * (tipRate / 100)  \n",
    "    round tip up to nearest cent  \n",
    "    total = billAmount + tip  \n",
    "\n",
    "    Display \"Tip: $\" + tip\n",
    "    Display \"Total: $\" + total  \n",
    "End  \n",
    "\n",
    "제약조건  \n",
    "* 팁은 반드시 퍼센트 단위로 입력 받아야 한다.  \n",
    "* 센트 단위로 반올림해야 한다.  "
   ]
  },
  {
   "cell_type": "code",
   "execution_count": 6,
   "metadata": {},
   "outputs": [
    {
     "name": "stdout",
     "output_type": "stream",
     "text": [
      "115.0\n"
     ]
    }
   ],
   "source": [
    "# Tip Calculator\n",
    "bill_amount = 100\n",
    "tip_rate = 15 \n",
    "\n",
    "tip = bill_amount * (tip_rate / 100)\n",
    "round(tip)\n",
    "total = bill_amount + tip\n",
    "print(total)"
   ]
  },
  {
   "cell_type": "code",
   "execution_count": 10,
   "metadata": {},
   "outputs": [
    {
     "name": "stdout",
     "output_type": "stream",
     "text": [
      "가격을 입력하세요100\n",
      "팁비율을 입력하세요15\n",
      "15.0\n"
     ]
    }
   ],
   "source": [
    "# Advanced Tip Calculator\n",
    "import tensorflow as tf\n",
    "import numpy as np\n",
    "\n",
    "# Input\n",
    "bill_amount = int(input('가격을 입력하세요'))\n",
    "tip_rate = int(input('팁비율을 입력하세요'))\n",
    "\n",
    "# Variable\n",
    "Bill_Amount = tf.placeholder(tf.float32)\n",
    "Tip_Rate = tf.placeholder(tf.float32)\n",
    "# print(Bill_Amount, Tip_Rate)\n",
    "\n",
    "# Formula\n",
    "Tip = tf.round(Bill_Amount * (Tip_Rate / 100))\n",
    "Total = Bill_Amount + Tip\n",
    "\n",
    "# setting for tensorflow\n",
    "init = tf.global_variables_initializer()\n",
    "sess = tf.Session()\n",
    "sess.run(init)\n",
    "\n",
    "# action\n",
    "print(sess.run(Tip, feed_dict={Bill_Amount:bill_amount, Tip_Rate:tip_rate}))\n"
   ]
  },
  {
   "cell_type": "code",
   "execution_count": 4,
   "metadata": {},
   "outputs": [
    {
     "name": "stdout",
     "output_type": "stream",
     "text": [
      "What is the bill amount?\n",
      " 100\n",
      "What is the tip rate?\n",
      " 15\n",
      "115.0\n"
     ]
    }
   ],
   "source": [
    "# Advanced Tip Calculator\n",
    "import tensorflow as tf\n",
    "import numpy as np\n",
    "\n",
    "# Input\n",
    "question = \"What is the bill amount?\"\n",
    "print(question)\n",
    "bill_amount = int(input(' '))\n",
    "another_question = \"What is the tip rate?\"\n",
    "print(another_question)\n",
    "tip_rate = int(input(' '))\n",
    "\n",
    "# Variable\n",
    "Bill_Amount = tf.placeholder(tf.float32)\n",
    "Tip_Rate = tf.placeholder(tf.float32)\n",
    "# print(Bill_Amount, Tip_Rate)\n",
    "\n",
    "# Formula\n",
    "Tip = tf.round(Bill_Amount * (Tip_Rate / 100))\n",
    "Total = Bill_Amount + Tip\n",
    "\n",
    "# setting for tensorflow\n",
    "init = tf.global_variables_initializer()\n",
    "sess = tf.Session()\n",
    "sess.run(init)\n",
    "\n",
    "# action\n",
    "# print(sess.run(Tip, feed_dict={Bill_Amount:bill_amount, Tip_Rate:tip_rate}))\n",
    "print(sess.run(Total, feed_dict={Bill_Amount:bill_amount, Tip_Rate:tip_rate}))"
   ]
  },
  {
   "cell_type": "markdown",
   "metadata": {},
   "source": [
    "## next advanced practice\n",
    "1. 가격과 팁 비율 값으로 숫자만 입력할 수 있도록 수정해보자.  \n",
    "만일 숫자가 아닌 값을 입력하는 경우에는 적절한 메시지를 출력한 다음 프로그램이 종료하도록 하라.  \n",
    "\n",
    "sample test Plan  \n",
    "\n",
    "Input:\n",
    "    bill amount:abcd  \n",
    "    tip rate:15  \n",
    "Expected Result: Please enter a valid number for the bill amount.  "
   ]
  },
  {
   "cell_type": "markdown",
   "metadata": {},
   "source": [
    "2. 잘못 입력된 값에 대한 메시지를 출력하고 프로그램을 종료하는 대신 허용되는 값이 입력될 때까지 계속해서 입력 요청을 하도록  \n",
    "수정해보자.  "
   ]
  },
  {
   "cell_type": "markdown",
   "metadata": {},
   "source": [
    "3. 음수 값이 입력되지 않도록 프로그램을 수정해보자.  "
   ]
  },
  {
   "cell_type": "markdown",
   "metadata": {},
   "source": [
    "4. 연산 부분을 함수로 처리하도록 프로그램을 분할해보자."
   ]
  },
  {
   "cell_type": "markdown",
   "metadata": {},
   "source": [
    "5. 프로그램을 GUI 버전으로 개선하라. GUI 버전에서는 입력 값이 바뀌면 결과 값이 자동으로 반영되어 나타난다."
   ]
  },
  {
   "cell_type": "markdown",
   "metadata": {},
   "source": [
    "6. 팁 비율을 퍼센트 단위로 입력 받은 대신 슬라이더를 사용하여 만족도에 따라 사용자가 조절할 수 있도록 수정해보자.  \n",
    "단, 슬라이더의 범위는 5% ~ 20%이다. "
   ]
  },
  {
   "cell_type": "code",
   "execution_count": null,
   "metadata": {},
   "outputs": [],
   "source": []
  }
 ],
 "metadata": {
  "kernelspec": {
   "display_name": "Python 3",
   "language": "python",
   "name": "python3"
  },
  "language_info": {
   "codemirror_mode": {
    "name": "ipython",
    "version": 3
   },
   "file_extension": ".py",
   "mimetype": "text/x-python",
   "name": "python",
   "nbconvert_exporter": "python",
   "pygments_lexer": "ipython3",
   "version": "3.6.5"
  }
 },
 "nbformat": 4,
 "nbformat_minor": 2
}
